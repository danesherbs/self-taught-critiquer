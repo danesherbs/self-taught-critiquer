{
 "cells": [
  {
   "cell_type": "code",
   "execution_count": null,
   "metadata": {},
   "outputs": [],
   "source": [
    "import textwrap\n",
    "import random\n",
    "import collections\n",
    "import typing"
   ]
  },
  {
   "cell_type": "code",
   "execution_count": null,
   "metadata": {},
   "outputs": [],
   "source": [
    "Question = collections.namedtuple(\"Question\", [\"x\", \"y\"])\n",
    "RationaleStep = collections.namedtuple(\"RationaleStep\", [\"x\", \"y\", \"acc\", \"carry\"])\n",
    "Rationale = typing.List[RationaleStep]\n",
    "Correction = collections.namedtuple(\"Correction\", [\"line\", \"pred\", \"true\", \"rationale\"])\n",
    "Example = collections.namedtuple(\"Example\", [\"question\", \"rationale\", \"answer\"])"
   ]
  },
  {
   "cell_type": "code",
   "execution_count": null,
   "metadata": {},
   "outputs": [],
   "source": [
    "def make_rationale_step_corrupt(rs: RationaleStep) -> RationaleStep:\n",
    "    corrupt_x, corrupt_y, corrupt_acc, corrupt_carry = rs\n",
    "    sample = random.uniform(0, 1)\n",
    "\n",
    "    if 0 < sample <= 0.1:\n",
    "        corrupt_x = corrupt_x + random.randint(1, 9)  # corrupt x\n",
    "    elif 0.1 < sample <= 0.2:\n",
    "        corrupt_y = corrupt_y + random.randint(1, 9)  # corrupt y\n",
    "    elif 0.2 < sample <= 0.5:\n",
    "        corrupt_acc = str(int(corrupt_acc) + random.randint(1, 9))  # corrupt acc\n",
    "    else:\n",
    "        corrupt_carry = 1 if corrupt_carry == 0 else 0  # corrupt carry\n",
    "\n",
    "    return RationaleStep(\n",
    "        x=corrupt_x,\n",
    "        y=corrupt_y,\n",
    "        acc=corrupt_acc,\n",
    "        carry=corrupt_carry,    \n",
    "    )\n",
    "\n",
    "\n",
    "rs = RationaleStep(x=2, y=5, acc=\"6\", carry=1)\n",
    "make_rationale_step_corrupt(rs)"
   ]
  },
  {
   "cell_type": "code",
   "execution_count": null,
   "metadata": {},
   "outputs": [],
   "source": [
    "def make_question(num_digits: int) -> Question:\n",
    "    assert num_digits > 0, \"need at least one digit to do arithmetic\"\n",
    "    min_digit = 0\n",
    "    max_digit = int(\"9\" * num_digits)\n",
    "    x = random.randint(min_digit, max_digit)\n",
    "    y = random.randint(min_digit, max_digit)\n",
    "    return Question(x, y)\n",
    "\n",
    "\n",
    "make_question(3)"
   ]
  },
  {
   "cell_type": "code",
   "execution_count": null,
   "metadata": {},
   "outputs": [],
   "source": [
    "def make_rationale(q: Question, is_corrupted=False) -> Rationale:\n",
    "    x = q.x\n",
    "    y = q.y\n",
    "    acc = \"\"\n",
    "    carry = 0\n",
    "    rationale = [\n",
    "        RationaleStep(\n",
    "            x=x,\n",
    "            y=y,\n",
    "            acc=acc,\n",
    "            carry=carry,\n",
    "        )\n",
    "    ]\n",
    "    n_steps = max(len(str(q.x)), len(str(q.y)))\n",
    "    corrupt_idx = random.randint(0, n_steps-1) if is_corrupted else -1\n",
    "\n",
    "    for i in range(n_steps):\n",
    "        acc = f\"{((x % 10) + (y % 10)) % 10 + carry}{acc}\"\n",
    "        carry = ((x % 10) + (y % 10)) // 10\n",
    "        x = x // 10\n",
    "        y = y // 10\n",
    "        rationale_step = RationaleStep(\n",
    "            x=x,\n",
    "            y=y,\n",
    "            acc=acc,\n",
    "            carry=carry,\n",
    "        )\n",
    "\n",
    "        if i == corrupt_idx:\n",
    "            rationale_step = make_rationale_step_corrupt(rationale_step)\n",
    "            x, y, acc, carry = rationale_step  # accumulate mistakes\n",
    "\n",
    "        rationale.append(rationale_step)\n",
    "    \n",
    "    rationale.append(RationaleStep(\n",
    "        x=0,\n",
    "        y=0,\n",
    "        acc=f\"{carry}{acc}\",\n",
    "        carry=0,\n",
    "    ))\n",
    "    \n",
    "    return rationale\n",
    "\n",
    "\n",
    "q = Question(x=29, y=57)\n",
    "print(q)\n",
    "print(make_rationale(q, is_corrupted=True))"
   ]
  },
  {
   "cell_type": "code",
   "execution_count": null,
   "metadata": {},
   "outputs": [],
   "source": [
    "def make_correction(incorrect_rs, correct_rs) -> Correction:\n",
    "    pass"
   ]
  },
  {
   "cell_type": "code",
   "execution_count": null,
   "metadata": {},
   "outputs": [],
   "source": [
    "def make_example(num_digits, is_corrupted=False) -> Example:\n",
    "    q = make_question(num_digits)\n",
    "    r = make_rationale(q, is_corrupted=is_corrupted)\n",
    "    a = int(r[-1].acc)\n",
    "\n",
    "    return Example(\n",
    "        question=q,\n",
    "        rationale=r,\n",
    "        answer=a,\n",
    "    )\n",
    "\n",
    "\n",
    "make_example(3, is_corrupted=True)"
   ]
  },
  {
   "cell_type": "code",
   "execution_count": null,
   "metadata": {},
   "outputs": [],
   "source": [
    "def number_to_str(x: int) -> str:\n",
    "    return \" \".join(list(str(x)))\n",
    "\n",
    "\n",
    "number_to_str(123)"
   ]
  },
  {
   "cell_type": "code",
   "execution_count": null,
   "metadata": {},
   "outputs": [],
   "source": [
    "def rationale_to_str(r: Rationale) -> str:\n",
    "    rationale_str = \"\"\n",
    "\n",
    "    for i, step in enumerate(r):\n",
    "        if step.x != 0 or step.y != 0:\n",
    "            rationale_str += f\"{number_to_str(step.x)} + {number_to_str(step.y)} \"\n",
    "\n",
    "        if i != len(r) - 1:\n",
    "            rationale_str += f\", {'' if step.acc == -1 else number_to_str(step.acc)} C: {step.carry}\\n\"\n",
    "        \n",
    "        if i == len(r) - 1:\n",
    "            rationale_str += f\"{'' if step.acc == -1 else number_to_str(step.acc)}\"\n",
    "\n",
    "    return rationale_str\n",
    "\n",
    "\n",
    "# q = Question(x=29, y=57)\n",
    "q = Question(x=54, y=2)\n",
    "r = make_rationale(q)\n",
    "print(rationale_to_str(r))"
   ]
  },
  {
   "cell_type": "code",
   "execution_count": null,
   "metadata": {},
   "outputs": [],
   "source": [
    "def correction_to_str(c: Correction) -> str:\n",
    "    return \"\""
   ]
  },
  {
   "cell_type": "code",
   "execution_count": null,
   "metadata": {},
   "outputs": [],
   "source": [
    "def example_to_str(e: Example) -> str:\n",
    "    question, rationale, answer = e\n",
    "    x_str = number_to_str(question.x)\n",
    "    y_str = number_to_str(question.y)\n",
    "    rationale_str = rationale_to_str(rationale)\n",
    "    answer_str = number_to_str(answer)\n",
    "\n",
    "    correction_str = \"\"\n",
    "    correction_rationale_str = \"\"\n",
    "    correction_answer_str = \"\"\n",
    "    \n",
    "    return textwrap.dedent(\n",
    "f\"\"\"Input:\n",
    "{x_str} + {y_str}\n",
    "\n",
    "Target:\n",
    "<scratch>\n",
    "{rationale_str}\n",
    "</scratch>\n",
    "{answer_str}\n",
    "\n",
    "Correction:\n",
    "{correction_str}\n",
    "<scratch>\n",
    "{correction_rationale_str}\n",
    "</scratch>\n",
    "{correction_answer_str}\"\"\").strip()\n",
    "\n",
    "\n",
    "print(example_to_str(make_example(2, is_corrupted=False)))"
   ]
  }
 ],
 "metadata": {
  "kernelspec": {
   "display_name": "Python 3.6.9 64-bit",
   "language": "python",
   "name": "python3"
  },
  "language_info": {
   "codemirror_mode": {
    "name": "ipython",
    "version": 3
   },
   "file_extension": ".py",
   "mimetype": "text/x-python",
   "name": "python",
   "nbconvert_exporter": "python",
   "pygments_lexer": "ipython3",
   "version": "3.8.10"
  },
  "orig_nbformat": 4,
  "vscode": {
   "interpreter": {
    "hash": "31f2aee4e71d21fbe5cf8b01ff0e069b9275f58929596ceb00d14d90e3e16cd6"
   }
  }
 },
 "nbformat": 4,
 "nbformat_minor": 2
}
