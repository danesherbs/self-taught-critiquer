{
 "cells": [
  {
   "cell_type": "code",
   "execution_count": 1,
   "metadata": {},
   "outputs": [
    {
     "data": {
      "application/vnd.jupyter.widget-view+json": {
       "model_id": "e9d4ff61cb444854a1a2b6ee840de9e1",
       "version_major": 2,
       "version_minor": 0
      },
      "text/plain": [
       "Downloading pytorch_model.bin:   0%|          | 0.00/5.99G [00:00<?, ?B/s]"
      ]
     },
     "metadata": {},
     "output_type": "display_data"
    }
   ],
   "source": [
    "import torch\n",
    "from transformers import AutoTokenizer, AutoModelForCausalLM\n",
    "\n",
    "tokenizer = AutoTokenizer.from_pretrained(\"gpt2-xl\")\n",
    "model = AutoModelForCausalLM.from_pretrained(\"gpt2-xl\")\n",
    "\n",
    "tokenizer.pad_token = tokenizer.eos_token\n",
    "model.config.pad_token_id = model.config.eos_token_id"
   ]
  },
  {
   "cell_type": "code",
   "execution_count": 4,
   "metadata": {},
   "outputs": [],
   "source": [
    "model.cuda()\n",
    "None  # supress output of cell"
   ]
  },
  {
   "cell_type": "code",
   "execution_count": 8,
   "metadata": {},
   "outputs": [
    {
     "data": {
      "text/plain": [
       "['Input',\n",
       " ':',\n",
       " 'Ċ',\n",
       " '6',\n",
       " 'Ġ5',\n",
       " 'Ġ+',\n",
       " 'Ġ6',\n",
       " 'Ġ2',\n",
       " 'Ċ',\n",
       " 'Ċ',\n",
       " 'Target',\n",
       " ':',\n",
       " 'Ċ',\n",
       " '<',\n",
       " 'sc',\n",
       " 'ratch',\n",
       " '>',\n",
       " 'Ċ',\n",
       " '6',\n",
       " 'Ġ5',\n",
       " 'Ġ+',\n",
       " 'Ġ6',\n",
       " 'Ġ2',\n",
       " 'Ġ,',\n",
       " 'Ġ',\n",
       " 'ĠC',\n",
       " ':',\n",
       " 'Ġ0',\n",
       " 'Ċ',\n",
       " '6',\n",
       " 'Ġ+',\n",
       " 'Ġ6',\n",
       " 'Ġ,',\n",
       " 'Ġ7',\n",
       " 'ĠC',\n",
       " ':',\n",
       " 'Ġ1',\n",
       " 'Ċ',\n",
       " ',',\n",
       " 'Ġ3',\n",
       " 'Ġ7',\n",
       " 'ĠC',\n",
       " ':',\n",
       " 'Ġ1',\n",
       " 'Ċ',\n",
       " '1',\n",
       " 'Ġ3',\n",
       " 'Ġ7',\n",
       " 'Ċ',\n",
       " '</',\n",
       " 'sc',\n",
       " 'ratch',\n",
       " '>',\n",
       " 'Ċ',\n",
       " '1',\n",
       " 'Ġ3',\n",
       " 'Ġ7',\n",
       " 'Ċ',\n",
       " 'Ċ',\n",
       " 'Correction',\n",
       " ':',\n",
       " 'Ċ',\n",
       " 'line',\n",
       " ':',\n",
       " 'Ġ0',\n",
       " 'Ġ,',\n",
       " 'ĠâĢ',\n",
       " 'ľ',\n",
       " 'C',\n",
       " ':',\n",
       " 'Ġ1',\n",
       " 'âĢ',\n",
       " 'Ŀ',\n",
       " 'Ġshould',\n",
       " 'Ġbe',\n",
       " 'ĠâĢ',\n",
       " 'ľ',\n",
       " 'C',\n",
       " ':',\n",
       " 'Ġ0',\n",
       " 'âĢ',\n",
       " 'Ŀ',\n",
       " 'Ċ',\n",
       " '<',\n",
       " 'sc',\n",
       " 'ratch',\n",
       " '>',\n",
       " 'Ċ',\n",
       " '6',\n",
       " 'Ġ+',\n",
       " 'Ġ6',\n",
       " 'Ġ,',\n",
       " 'Ġ7',\n",
       " 'ĠC',\n",
       " ':',\n",
       " 'Ġ0',\n",
       " 'Ċ',\n",
       " ',',\n",
       " 'Ġ2',\n",
       " 'Ġ7',\n",
       " 'ĠC',\n",
       " ':',\n",
       " 'Ġ1',\n",
       " 'Ċ',\n",
       " '1',\n",
       " 'Ġ2',\n",
       " 'Ġ7',\n",
       " 'Ċ',\n",
       " '</',\n",
       " 'sc',\n",
       " 'ratch',\n",
       " '>',\n",
       " 'Ċ',\n",
       " '1',\n",
       " 'Ġ2',\n",
       " 'Ġ7']"
      ]
     },
     "execution_count": 8,
     "metadata": {},
     "output_type": "execute_result"
    }
   ],
   "source": [
    "text = \"\"\"Input:\n",
    "6 5 + 6 2\n",
    "\n",
    "Target:\n",
    "<scratch>\n",
    "6 5 + 6 2 ,  C: 0\n",
    "6 + 6 , 7 C: 1\n",
    ", 3 7 C: 1\n",
    "1 3 7\n",
    "</scratch>\n",
    "1 3 7\n",
    "\n",
    "Correction:\n",
    "line: 0 , “C: 1” should be “C: 0”\n",
    "<scratch>\n",
    "6 + 6 , 7 C: 0\n",
    ", 2 7 C: 1\n",
    "1 2 7\n",
    "</scratch>\n",
    "1 2 7\"\"\"\n",
    "\n",
    "\n",
    "input_ids = tokenizer(text).input_ids\n",
    "tokenizer.convert_ids_to_tokens(input_ids)"
   ]
  },
  {
   "cell_type": "code",
   "execution_count": 15,
   "metadata": {},
   "outputs": [
    {
     "data": {
      "text/plain": [
       "['123', '45', '67', '89']"
      ]
     },
     "execution_count": 15,
     "metadata": {},
     "output_type": "execute_result"
    }
   ],
   "source": [
    "tokenizer.convert_ids_to_tokens(tokenizer(\"123456789\").input_ids)"
   ]
  },
  {
   "cell_type": "code",
   "execution_count": 16,
   "metadata": {},
   "outputs": [
    {
     "data": {
      "text/plain": [
       "['1', 'Ġ2', 'Ġ3', 'Ġ4', 'Ġ5', 'Ġ6', 'Ġ7', 'Ġ8', 'Ġ9']"
      ]
     },
     "execution_count": 16,
     "metadata": {},
     "output_type": "execute_result"
    }
   ],
   "source": [
    "tokenizer.convert_ids_to_tokens(tokenizer(\"1 2 3 4 5 6 7 8 9\").input_ids)"
   ]
  },
  {
   "cell_type": "code",
   "execution_count": 17,
   "metadata": {},
   "outputs": [
    {
     "data": {
      "text/plain": [
       "['line',\n",
       " ':',\n",
       " 'Ġ0',\n",
       " 'Ġ,',\n",
       " 'ĠâĢ',\n",
       " 'ľ',\n",
       " 'C',\n",
       " ':',\n",
       " 'Ġ1',\n",
       " 'âĢ',\n",
       " 'Ŀ',\n",
       " 'Ġshould',\n",
       " 'Ġbe',\n",
       " 'ĠâĢ',\n",
       " 'ľ',\n",
       " 'C',\n",
       " ':',\n",
       " 'Ġ0',\n",
       " 'âĢ',\n",
       " 'Ŀ']"
      ]
     },
     "execution_count": 17,
     "metadata": {},
     "output_type": "execute_result"
    }
   ],
   "source": [
    "tokenizer.convert_ids_to_tokens(tokenizer(\"line: 0 , “C: 1” should be “C: 0”\").input_ids)"
   ]
  }
 ],
 "metadata": {
  "kernelspec": {
   "display_name": "Python 3.6.9 64-bit",
   "language": "python",
   "name": "python3"
  },
  "language_info": {
   "codemirror_mode": {
    "name": "ipython",
    "version": 3
   },
   "file_extension": ".py",
   "mimetype": "text/x-python",
   "name": "python",
   "nbconvert_exporter": "python",
   "pygments_lexer": "ipython3",
   "version": "3.8.10"
  },
  "orig_nbformat": 4,
  "vscode": {
   "interpreter": {
    "hash": "31f2aee4e71d21fbe5cf8b01ff0e069b9275f58929596ceb00d14d90e3e16cd6"
   }
  }
 },
 "nbformat": 4,
 "nbformat_minor": 2
}
